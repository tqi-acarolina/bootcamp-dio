{
 "cells": [
  {
   "cell_type": "markdown",
   "metadata": {},
   "source": [
    "Funções simples em ***Python***:"
   ]
  },
  {
   "cell_type": "code",
   "execution_count": 2,
   "metadata": {},
   "outputs": [
    {
     "name": "stdout",
     "output_type": "stream",
     "text": [
      "Olá Ana, seja bem vindo!\n"
     ]
    }
   ],
   "source": [
    "def saudacao():\n",
    "  nome = input('Escreva aqui o nome desejado: ')\n",
    "  print(f'Olá {nome}, seja bem vindo!')\n",
    "\n",
    "saudacao()\n"
   ]
  },
  {
   "cell_type": "code",
   "execution_count": 3,
   "metadata": {},
   "outputs": [
    {
     "name": "stdout",
     "output_type": "stream",
     "text": [
      "O seu nome completo é: Ana Silva!\n"
     ]
    }
   ],
   "source": [
    "def nome_completo():\n",
    "  primeiro_nome = input('Qual seu primeiro nome? ')\n",
    "  sobrenome = input('Qual o seu sobrenome? ')\n",
    "  nome = primeiro_nome + ' ' + sobrenome\n",
    "  print(f'O seu nome completo é: {nome}!')\n",
    "\n",
    "nome_completo()"
   ]
  },
  {
   "cell_type": "code",
   "execution_count": 4,
   "metadata": {},
   "outputs": [
    {
     "name": "stdout",
     "output_type": "stream",
     "text": [
      "Essa pessoa não tem permissão para dirigir!\n"
     ]
    }
   ],
   "source": [
    "## Criação de condicionais dentro da função\n",
    "\n",
    "idade = int(input('Digite a idade desejada: '))\n",
    "\n",
    "def verifica_idade(idade):\n",
    "  if idade >= 18:\n",
    "    print('Essa pessoa tem permissão para dirigir!')\n",
    "  else:\n",
    "    print('Essa pessoa não tem permissão para dirigir!')\n",
    "\n",
    "verifica_idade(idade)"
   ]
  },
  {
   "cell_type": "code",
   "execution_count": 5,
   "metadata": {},
   "outputs": [
    {
     "name": "stdout",
     "output_type": "stream",
     "text": [
      "Velocidade: 5.0 m/s\n"
     ]
    }
   ],
   "source": [
    "# Uma pessoa vai até a padaria todos os dias. A distância de sua casa até o estabelecimento é de 100 metros e todo percurso é feito em 20 segundos. \n",
    "# Para calcular a velocidade média e descobrir a razão do espaço pelo tempo, podemos dividir o espaço percorrido pelo tempo.\n",
    "# Sabendo disso, a pessoa deseja criar uma função chamada velocidade, que recebe 2 parâmetros chamados espaco e tempo, realizar o cálculo e exibir uma saída semelhante ao exemplo abaixo:\n",
    "# Velocidade: 5 m/s\n",
    "\n",
    "def velocidade(espaco, tempo):\n",
    "  v = espaco/tempo\n",
    "  print(f'Velocidade: {v} m/s')\n",
    "\n",
    "velocidade(100,20)"
   ]
  },
  {
   "cell_type": "markdown",
   "metadata": {},
   "source": [
    "## Trabalhando com **listas**:"
   ]
  },
  {
   "cell_type": "code",
   "execution_count": 8,
   "metadata": {},
   "outputs": [
    {
     "data": {
      "text/plain": [
       "[18, 22, 35, 60]"
      ]
     },
     "execution_count": 8,
     "metadata": {},
     "output_type": "execute_result"
    }
   ],
   "source": [
    "idades = [18, 22, 35, 60, 13]\n",
    "idades[0:len(idades)-1]"
   ]
  },
  {
   "cell_type": "code",
   "execution_count": 9,
   "metadata": {},
   "outputs": [
    {
     "name": "stdout",
     "output_type": "stream",
     "text": [
      "18 anos de idade. Essa pessoa tem permissão para dirigir!\n",
      "22 anos de idade. Essa pessoa tem permissão para dirigir!\n",
      "35 anos de idade. Essa pessoa tem permissão para dirigir!\n",
      "60 anos de idade. Essa pessoa tem permissão para dirigir!\n",
      "13 anos de idade. Essa pessoa não tem permissão para dirigir!\n"
     ]
    }
   ],
   "source": [
    "#Verificar quais idades dentro da lista podem dirigir ou não:\n",
    "\n",
    "## Opção 1: FOR fora da função\n",
    "\n",
    "def verifica_idade(idade):\n",
    "  if idade >= 18:\n",
    "    print(f'{idade} anos de idade. Essa pessoa tem permissão para dirigir!')\n",
    "  else:\n",
    "    print(f'{idade} anos de idade. Essa pessoa não tem permissão para dirigir!')\n",
    "\n",
    "for idade in idades:\n",
    "  verifica_idade(idade)\n"
   ]
  },
  {
   "cell_type": "code",
   "execution_count": 10,
   "metadata": {},
   "outputs": [
    {
     "name": "stdout",
     "output_type": "stream",
     "text": [
      "18 anos de idade. Essa pessoa tem permissão para dirigir!\n",
      "22 anos de idade. Essa pessoa tem permissão para dirigir!\n",
      "35 anos de idade. Essa pessoa tem permissão para dirigir!\n",
      "60 anos de idade. Essa pessoa tem permissão para dirigir!\n",
      "13 anos de idade. Essa pessoa não tem permissão para dirigir!\n"
     ]
    }
   ],
   "source": [
    "## Opção 2: FOR dentro da função\n",
    "\n",
    "def verifica_idade(idades):\n",
    "  for idade in idades:\n",
    "    if idade >= 18:\n",
    "      print(f'{idade} anos de idade. Essa pessoa tem permissão para dirigir!')\n",
    "    else:\n",
    "      print(f'{idade} anos de idade. Essa pessoa não tem permissão para dirigir!')\n",
    "\n",
    "verifica_idade(idades)"
   ]
  },
  {
   "cell_type": "code",
   "execution_count": 11,
   "metadata": {},
   "outputs": [
    {
     "name": "stdout",
     "output_type": "stream",
     "text": [
      "[True, False, True, False]\n"
     ]
    }
   ],
   "source": [
    "permissoes = []\n",
    "idades_2 = [18, 13, 22, 16]\n",
    "\n",
    "def verifica_permissoes(idades, permissoes):\n",
    "  for idade in idades_2:\n",
    "    if idade >= 18:\n",
    "      permissoes.append(True)\n",
    "    else:\n",
    "      permissoes.append(False)\n",
    "\n",
    "verifica_permissoes(idades, permissoes)\n",
    "print(permissoes)"
   ]
  },
  {
   "cell_type": "code",
   "execution_count": 12,
   "metadata": {},
   "outputs": [
    {
     "name": "stdout",
     "output_type": "stream",
     "text": [
      "Essa pessoa possui permissão para dirigir!\n",
      "Essa pessoa NÃO possui permissão para dirigir!\n",
      "Essa pessoa possui permissão para dirigir!\n",
      "Essa pessoa NÃO possui permissão para dirigir!\n"
     ]
    }
   ],
   "source": [
    "for permissao in permissoes:\n",
    "  if permissao == True:\n",
    "    print('Essa pessoa possui permissão para dirigir!')\n",
    "  else:\n",
    "    print('Essa pessoa NÃO possui permissão para dirigir!')"
   ]
  },
  {
   "cell_type": "code",
   "execution_count": 13,
   "metadata": {},
   "outputs": [
    {
     "name": "stdout",
     "output_type": "stream",
     "text": [
      "O elemento Ana é do tipo:  <class 'str'>\n",
      "O elemento 26 é do tipo:  <class 'int'>\n",
      "O elemento True é do tipo:  <class 'bool'>\n",
      "O elemento Gestão da Informação é do tipo:  <class 'str'>\n"
     ]
    }
   ],
   "source": [
    "pessoa = ['Ana', 26, True, 'Gestão da Informação']\n",
    "\n",
    "for i in pessoa:\n",
    "  print(f'O elemento {i} é do tipo: ', type(i))"
   ]
  },
  {
   "cell_type": "code",
   "execution_count": 14,
   "metadata": {},
   "outputs": [],
   "source": [
    "## Imports\n",
    "\n",
    "from random import randrange, seed\n",
    "import matplotlib.pyplot as plt "
   ]
  },
  {
   "cell_type": "code",
   "execution_count": 15,
   "metadata": {},
   "outputs": [
    {
     "data": {
      "image/png": "[encoded data removed]",
      "text/plain": [
       "<Figure size 432x288 with 1 Axes>"
      ]
     },
     "metadata": {
      "needs_background": "light"
     },
     "output_type": "display_data"
    }
   ],
   "source": [
    "seed(11) #faz com que a geração dos números aleatórios sejam sempre os mesmos quando rodar a função de range\n",
    "randrange(0, 11)\n",
    "notas_matematica = []\n",
    "for notas in range(8):\n",
    "  notas_matematica.append(randrange(0,11))\n",
    "\n",
    "notas_matematica\n",
    "\n",
    "x = list(range(1,9)) \n",
    "y = notas_matematica\n",
    "\n",
    "plt.plot(x,y, marker='o')\n",
    "plt.title('Notas de Matemática')\n",
    "plt.xlabel('Provas')\n",
    "plt.ylabel('Notas')\n",
    "plt.show()"
   ]
  },
  {
   "cell_type": "code",
   "execution_count": 16,
   "metadata": {},
   "outputs": [
    {
     "data": {
      "image/png": "[encoded data removed]",
      "text/plain": [
       "<Figure size 432x288 with 1 Axes>"
      ]
     },
     "metadata": {
      "needs_background": "light"
     },
     "output_type": "display_data"
    },
    {
     "data": {
      "image/png": "[encoded data removed]",
      "text/plain": [
       "<Figure size 432x288 with 1 Axes>"
      ]
     },
     "metadata": {
      "needs_background": "light"
     },
     "output_type": "display_data"
    },
    {
     "data": {
      "image/png": "[encoded data removed]",
      "text/plain": [
       "<Figure size 432x288 with 1 Axes>"
      ]
     },
     "metadata": {
      "needs_background": "light"
     },
     "output_type": "display_data"
    }
   ],
   "source": [
    "\n",
    "notas_matematica = ['Matemática',8,7,6,6,7,7,8,10]\n",
    "notas_portugues = ['Português',9,9,9,8,5,6,8,5]\n",
    "notas_geografia = ['Geografia',10,10,6,7,7,7,8,7]\n",
    "\n",
    "notas = [notas_matematica, notas_portugues, notas_geografia]\n",
    "\n",
    "for nota in notas:\n",
    "  x = list(range(1,9))\n",
    "  y = nota[1:]\n",
    "  plt.plot(x,y, marker='o')\n",
    "  plt.title(f'Notas de {nota[0]}')\n",
    "  plt.xlabel('Provas')\n",
    "  plt.ylabel('Notas')\n",
    "  plt.show()"
   ]
  },
  {
   "cell_type": "code",
   "execution_count": null,
   "metadata": {},
   "outputs": [],
   "source": []
  }
 ],
 "metadata": {
  "interpreter": {
   "hash": "916dbcbb3f70747c44a77c7bcd40155683ae19c65e1c03b4aa3499c5328201f1"
  },
  "kernelspec": {
   "display_name": "Python 3.8.10 64-bit",
   "language": "python",
   "name": "python3"
  },
  "language_info": {
   "codemirror_mode": {
    "name": "ipython",
    "version": 3
   },
   "file_extension": ".py",
   "mimetype": "text/x-python",
   "name": "python",
   "nbconvert_exporter": "python",
   "pygments_lexer": "ipython3",
   "version": "3.8.10"
  },
  "orig_nbformat": 4
 },
 "nbformat": 4,
 "nbformat_minor": 2
}
